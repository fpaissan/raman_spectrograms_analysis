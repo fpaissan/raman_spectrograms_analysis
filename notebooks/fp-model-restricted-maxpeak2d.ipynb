{
 "cells": [
  {
   "cell_type": "code",
   "execution_count": null,
   "metadata": {
    "collapsed": true
   },
   "outputs": [],
   "source": [
    "# Load data\n",
    "from src.models.utils import load_data\n",
    "import glob\n",
    "file_list = glob.glob('{0}/*'.format(\"../data/processed/unlabeled\"))\n",
    "\n",
    "for f in file_list:\n",
    "    if not \"bkg\" in f:\n",
    "        data_x = load_data(f)\n",
    "\n",
    "data_x.shape"
   ]
  },
  {
   "cell_type": "code",
   "execution_count": null,
   "outputs": [],
   "source": [
    "# Train model and evaluate which feature set is better\n",
    "from src.models.train_model import train_model\n",
    "\n",
    "inertia_nc = []\n",
    "for nc in range(1, 65):\n",
    "    model = train_model(data_x, n_clusters=nc)\n",
    "    inertia_nc.append(model.inertia_)"
   ],
   "metadata": {
    "collapsed": false,
    "pycharm": {
     "name": "#%%\n"
    }
   }
  }
 ],
 "metadata": {
  "kernelspec": {
   "display_name": "Python 3",
   "language": "python",
   "name": "python3"
  },
  "language_info": {
   "codemirror_mode": {
    "name": "ipython",
    "version": 2
   },
   "file_extension": ".py",
   "mimetype": "text/x-python",
   "name": "python",
   "nbconvert_exporter": "python",
   "pygments_lexer": "ipython2",
   "version": "2.7.6"
  }
 },
 "nbformat": 4,
 "nbformat_minor": 0
}