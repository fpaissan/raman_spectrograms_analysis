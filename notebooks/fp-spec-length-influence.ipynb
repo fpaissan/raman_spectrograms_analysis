{
 "cells": [
  {
   "cell_type": "markdown",
   "metadata": {
    "collapsed": true,
    "pycharm": {
     "name": "#%% md\n"
    }
   },
   "source": [
    "# How does spectrogram length influence the clustering performance?\n",
    "\n",
    "First, I want to investigate if I can remove the samples after 1400, since from EDA they don't seem too important."
   ]
  },
  {
   "cell_type": "code",
   "execution_count": 19,
   "outputs": [],
   "source": [
    "# Load dataset\n",
    "def load_and_train(range_start: int, range_end: int):\n",
    "    from src.models.utils import load_data\n",
    "    import glob\n",
    "\n",
    "    file_list = glob.glob('{0}/*'.format(\"../data/processed/unlabeled\"))\n",
    "\n",
    "    data_x = list()\n",
    "    for f in file_list:\n",
    "        if not \"bkg\" in f:\n",
    "            data_x.append(load_data(f, range_start, range_end))\n",
    "\n",
    "    from sklearn.cluster import KMeans\n",
    "    import numpy as np\n",
    "\n",
    "    data_x = np.array(data_x)\n",
    "\n",
    "    k_mean = KMeans(n_clusters=63)\n",
    "    k_mean.fit(data_x)\n",
    "\n",
    "    return data_x, k_mean, k_mean.cluster_centers_"
   ],
   "metadata": {
    "collapsed": false,
    "pycharm": {
     "name": "#%%\n"
    }
   }
  },
  {
   "cell_type": "code",
   "execution_count": 20,
   "outputs": [],
   "source": [
    "data_fullrange, model_fullrange, full_range_c = load_and_train(0, -1)\n",
    "data_restricted, model_restricted, til_1400_c = load_and_train(0, 1400)"
   ],
   "metadata": {
    "collapsed": false,
    "pycharm": {
     "name": "#%%\n"
    }
   }
  },
  {
   "cell_type": "code",
   "execution_count": 25,
   "outputs": [
    {
     "data": {
      "text/plain": "0.01652892561983471"
     },
     "execution_count": 25,
     "metadata": {},
     "output_type": "execute_result"
    }
   ],
   "source": [
    "from sklearn.metrics import accuracy_score\n",
    "pred_fr = model_fullrange.predict(data_fullrange)\n",
    "pred_res = model_restricted.predict(data_restricted)\n",
    "\n",
    "accuracy_score(pred_fr, pred_res)"
   ],
   "metadata": {
    "collapsed": false,
    "pycharm": {
     "name": "#%%\n"
    }
   }
  },
  {
   "cell_type": "markdown",
   "source": [
    "clusters clearly don't match... is it an ordering problem or what?\n",
    "\n"
   ],
   "metadata": {
    "collapsed": false,
    "pycharm": {
     "name": "#%% md\n"
    }
   }
  },
  {
   "cell_type": "code",
   "execution_count": null,
   "outputs": [],
   "source": [],
   "metadata": {
    "collapsed": false,
    "pycharm": {
     "name": "#%%\n"
    }
   }
  }
 ],
 "metadata": {
  "kernelspec": {
   "display_name": "Python 3",
   "language": "python",
   "name": "python3"
  },
  "language_info": {
   "codemirror_mode": {
    "name": "ipython",
    "version": 2
   },
   "file_extension": ".py",
   "mimetype": "text/x-python",
   "name": "python",
   "nbconvert_exporter": "python",
   "pygments_lexer": "ipython2",
   "version": "2.7.6"
  }
 },
 "nbformat": 4,
 "nbformat_minor": 0
}