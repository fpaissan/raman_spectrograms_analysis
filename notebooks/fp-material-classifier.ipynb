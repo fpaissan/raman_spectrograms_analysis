{
 "cells": [
  {
   "cell_type": "code",
   "execution_count": 3,
   "metadata": {
    "collapsed": true
   },
   "outputs": [],
   "source": [
    "import numpy as np\n",
    "import glob\n",
    "\n",
    "import pandas as pd\n",
    "\n",
    "\n",
    "def load_interim_samples(path):\n",
    "    file_list = glob.glob(path + \"/*\")\n",
    "    file_list.sort()\n",
    "    data_unlabeled = []\n",
    "    for f in file_list:\n",
    "        interim_data = np.loadtxt(f, delimiter=',', skiprows=1)\n",
    "        data_unlabeled.append(interim_data)\n",
    "\n",
    "    return data_unlabeled"
   ]
  },
  {
   "cell_type": "code",
   "execution_count": 4,
   "outputs": [],
   "source": [
    "data_unlabeled = load_interim_samples(\"../data/interim/unlabeled\")\n",
    "data_labeled = load_interim_samples(\"../data/interim/labeled\")"
   ],
   "metadata": {
    "collapsed": false,
    "pycharm": {
     "name": "#%%\n"
    }
   }
  },
  {
   "cell_type": "markdown",
   "source": [
    "I expect unlabeled samples to be a linear combination of labeled samples (more materials can be in one acquisition).\n",
    "Thus, I am exploring the linear combinations of the labeled samples with positive coefficients\n",
    "that return the same spectrogram.\n",
    "In that case, the coeff with account for the abbundance of the material."
   ],
   "metadata": {
    "collapsed": false,
    "pycharm": {
     "name": "#%% md\n"
    }
   }
  },
  {
   "cell_type": "code",
   "execution_count": 9,
   "outputs": [],
   "source": [
    "from scipy.interpolate import interp1d\n",
    "\n",
    "\n",
    "def interpolate_signals(data):\n",
    "    \"\"\"\n",
    "    Interpolates signals to enable comparison\n",
    "    \"\"\"\n",
    "    interp_rage = np.arange(0, 2400)\n",
    "    samples = np.ndarray(shape=(2400, len(data)))\n",
    "    for i, spec in enumerate(data):\n",
    "        fit = interp1d(spec[:, 0], spec[:, 1], fill_value=\"extrapolate\")\n",
    "        samples[:, i] = fit(interp_rage)\n",
    "\n",
    "    return samples"
   ],
   "metadata": {
    "collapsed": false,
    "pycharm": {
     "name": "#%%\n"
    }
   }
  },
  {
   "cell_type": "code",
   "execution_count": 12,
   "outputs": [
    {
     "data": {
      "text/plain": "((2400, 61), (2400, 242))"
     },
     "execution_count": 12,
     "metadata": {},
     "output_type": "execute_result"
    }
   ],
   "source": [
    "samples_labeled = interpolate_signals(data_labeled)\n",
    "samples_unlabeled = interpolate_signals(data_unlabeled)\n",
    "\n",
    "samples_labeled.shape, samples_unlabeled.shape"
   ],
   "metadata": {
    "collapsed": false,
    "pycharm": {
     "name": "#%%\n"
    }
   }
  },
  {
   "cell_type": "code",
   "execution_count": 34,
   "outputs": [],
   "source": [
    "from sklearn.linear_model import LinearRegression\n",
    "import pandas as pd\n",
    "\n",
    "\n",
    "def infer_materials(index):\n",
    "    model = LinearRegression(positive=True).fit(samples_labeled, samples_unlabeled[:, index])\n",
    "\n",
    "    glob_label = glob.glob(\"../data/interim/labeled/*\")\n",
    "    glob_label.sort()\n",
    "    materials_label = [k.split('/')[-1].split('.')[0] for k in glob_label]\n",
    "\n",
    "    quant = pd.DataFrame({\n",
    "        \"label\": materials_label,\n",
    "        \"value\": model.coef_\n",
    "    })\n",
    "\n",
    "    return quant"
   ],
   "metadata": {
    "collapsed": false,
    "pycharm": {
     "name": "#%%\n"
    }
   }
  },
  {
   "cell_type": "code",
   "execution_count": 38,
   "outputs": [
    {
     "data": {
      "text/plain": "<AxesSubplot:>"
     },
     "execution_count": 38,
     "metadata": {},
     "output_type": "execute_result"
    },
    {
     "data": {
      "text/plain": "<Figure size 432x288 with 1 Axes>",
      "image/png": "[encoded data removed]"
     },
     "metadata": {
      "needs_background": "light"
     },
     "output_type": "display_data"
    }
   ],
   "source": [
    "y_pred = infer_materials(0)\n",
    "\n",
    "y_pred.plot(kind='bar')"
   ],
   "metadata": {
    "collapsed": false,
    "pycharm": {
     "name": "#%%\n"
    }
   }
  },
  {
   "cell_type": "code",
   "execution_count": null,
   "outputs": [],
   "source": [],
   "metadata": {
    "collapsed": false,
    "pycharm": {
     "name": "#%%\n"
    }
   }
  }
 ],
 "metadata": {
  "kernelspec": {
   "display_name": "Python 3",
   "language": "python",
   "name": "python3"
  },
  "language_info": {
   "codemirror_mode": {
    "name": "ipython",
    "version": 2
   },
   "file_extension": ".py",
   "mimetype": "text/x-python",
   "name": "python",
   "nbconvert_exporter": "python",
   "pygments_lexer": "ipython2",
   "version": "2.7.6"
  }
 },
 "nbformat": 4,
 "nbformat_minor": 0
}