{
 "cells": [
  {
   "cell_type": "markdown",
   "metadata": {
    "collapsed": true,
    "pycharm": {
     "name": "#%% md\n"
    }
   },
   "source": [
    "# Comparison of different normalization methods/features and impact on model\n",
    "\n",
    "This are the questions I am trying to address with this notebook:\n",
    "- which of the normalisation techniques provides meaningful information for clustering? look at inertia, number of\n",
    "     clusters etc...\n",
    "- which is the optimal dissimilarity metric for this task?\n",
    "- visual inspection of normalised data;"
   ]
  },
  {
   "cell_type": "code",
   "execution_count": 41,
   "outputs": [],
   "source": [
    "from src.data.utils import normalize_col\n",
    "\n",
    "import pandas as pd\n",
    "import numpy as np\n",
    "import glob\n",
    "\n",
    "\n",
    "def make_labeled_nb(input_filepath, norm_type=\"integral\"):\n",
    "    file_list = glob.glob(input_filepath + '/*')\n",
    "    for f in file_list:\n",
    "        df = pd.read_csv(f, delim_whitespace=True, names=['wl', 'ri'])\n",
    "        wl = df.wl\n",
    "        data = df.drop(columns=['wl'])\n",
    "\n",
    "        for col in data:\n",
    "            df[f'{norm_type}_{col}'] = normalize_col(wl, data[col], norm_type=norm_type)\n",
    "\n",
    "    return df"
   ],
   "metadata": {
    "collapsed": false,
    "pycharm": {
     "name": "#%%\n"
    }
   }
  },
  {
   "cell_type": "code",
   "execution_count": 3,
   "outputs": [
    {
     "data": {
      "text/plain": "(         wl        ri  integral_ri\n 0  100.0000   0.00000     0.000000\n 1  130.3772   0.00000     0.000000\n 2  130.8593  29.94379     0.000018\n 3  131.3414  40.09552     0.000025\n 4  131.8235  32.20599     0.000020,\n          wl        ri  zscore_ri\n 0  100.0000   0.00000  -0.450377\n 1  130.3772   0.00000  -0.450377\n 2  130.8593  29.94379  -0.440640\n 3  131.3414  40.09552  -0.437339\n 4  131.8235  32.20599  -0.439904)"
     },
     "execution_count": 3,
     "metadata": {},
     "output_type": "execute_result"
    }
   ],
   "source": [
    "data_integral = make_labeled_nb(\"../data/raw/labeled\", \"integral\")\n",
    "data_zscore = make_labeled_nb(\"../data/raw/labeled\", \"zscore\")\n",
    "\n",
    "data_integral.head(), data_zscore.head()"
   ],
   "metadata": {
    "collapsed": false,
    "pycharm": {
     "name": "#%%\n"
    }
   }
  },
  {
   "cell_type": "code",
   "execution_count": 27,
   "outputs": [],
   "source": [
    "from scipy.stats import entropy\n",
    "\n",
    "\n",
    "# I can add RMS, number of peaks, 0-crossings, ...\n",
    "def stat_features(df, col_name):\n",
    "    # First-order stats\n",
    "    var = df[col_name].std()\n",
    "    mean = df[col_name].mean()\n",
    "    skew = df[col_name].skew()\n",
    "    kurt = df[col_name].kurtosis()\n",
    "\n",
    "    # Second-order stats\n",
    "    signal_entropy = entropy(np.absolute(df[col_name]))\n",
    "\n",
    "    return {\n",
    "        \"var\": var,\n",
    "        \"mean\": mean,\n",
    "        \"skew\": skew,\n",
    "        \"kurt\": kurt,\n",
    "        \"entropy\": signal_entropy\n",
    "    }"
   ],
   "metadata": {
    "collapsed": false,
    "pycharm": {
     "name": "#%%\n"
    }
   }
  },
  {
   "cell_type": "code",
   "execution_count": 5,
   "outputs": [
    {
     "data": {
      "text/plain": "({'var': 0.001897976706764272,\n  'mean': 0.0008546294407266169,\n  'skew': 4.364274107468595,\n  'kurt': 24.073100892495738,\n  'entropy': 6.544725837429657},\n {'var': 1.000206079342734,\n  'mean': -4.684253717413104e-17,\n  'skew': 4.364274107468595,\n  'kurt': 24.07310089249574,\n  'entropy': 7.299249801563963})"
     },
     "execution_count": 5,
     "metadata": {},
     "output_type": "execute_result"
    }
   ],
   "source": [
    "integral_feat = stat_features(data_integral, \"integral_ri\")\n",
    "zscore_feat = stat_features(data_zscore, \"zscore_ri\")\n",
    "\n",
    "integral_feat, zscore_feat"
   ],
   "metadata": {
    "collapsed": false,
    "pycharm": {
     "name": "#%%\n"
    }
   }
  },
  {
   "cell_type": "markdown",
   "source": [
    "var for zscore normalised is expected to be 1.\n",
    "\n",
    "Extracting data with integral normalization\n",
    "to compare with model:"
   ],
   "metadata": {
    "collapsed": false,
    "pycharm": {
     "name": "#%% md\n"
    }
   }
  },
  {
   "cell_type": "code",
   "execution_count": 24,
   "outputs": [],
   "source": [
    "from src.data.make_dataset import make_unlabeled, make_labeled\n",
    "\n",
    "make_unlabeled(\"../data/raw/labeled\", \"../data/interim/labeled\", \"integral\")\n",
    "make_labeled(\"../data/raw/labeled\", \"../data/interim/labeled\", \"integral\")"
   ],
   "metadata": {
    "collapsed": false,
    "pycharm": {
     "name": "#%%\n"
    }
   }
  },
  {
   "cell_type": "code",
   "execution_count": 38,
   "outputs": [],
   "source": [
    "from src.features.utils import save_feat_files\n",
    "from progress.bar import ShadyBar\n",
    "import os\n",
    "\n",
    "\n",
    "def extract_features(input_filepath: str, output_filepath: str) -> pd.DataFrame:\n",
    "    \"\"\"\n",
    "    Builds features for clustering.\n",
    "    \"\"\"\n",
    "    file_list = glob.glob(input_filepath + '/*')\n",
    "    features_set = np.ndarray(shape=(len(file_list), 5))\n",
    "    with ShadyBar(f\"Extracting features {input_filepath}...\", max=len(file_list)) as bar:\n",
    "        for i, f in enumerate(file_list):\n",
    "            interim_data = np.loadtxt(f, delimiter=',', skiprows=1)\n",
    "\n",
    "            y_axis_data = interim_data[:, 1]\n",
    "\n",
    "            features_set[i, :] = list(stat_features(pd.DataFrame({\"data\": y_axis_data}), col_name=\"data\").values())\n",
    "\n",
    "            bar.next()\n",
    "\n",
    "    save_feat_files(features_set, os.path.join(output_filepath, \"peaks_features.csv\"))"
   ],
   "metadata": {
    "collapsed": false,
    "pycharm": {
     "name": "#%%\n"
    }
   }
  },
  {
   "cell_type": "code",
   "execution_count": 40,
   "outputs": [],
   "source": [
    "extract_features(\"../data/interim/labeled\", \"../data/processed/labeled\")\n",
    "extract_features(\"../data/interim/unlabeled\", \"../data/processed/unlabeled\")"
   ],
   "metadata": {
    "collapsed": false,
    "pycharm": {
     "name": "#%%\n"
    }
   }
  },
  {
   "cell_type": "markdown",
   "source": [
    "Now training model on this features."
   ],
   "metadata": {
    "collapsed": false,
    "pycharm": {
     "name": "#%% md\n"
    }
   }
  },
  {
   "cell_type": "code",
   "execution_count": 58,
   "outputs": [
    {
     "data": {
      "text/plain": "1598.046532880477"
     },
     "execution_count": 58,
     "metadata": {},
     "output_type": "execute_result"
    }
   ],
   "source": [
    "from src.models.train_model import train_model\n",
    "import pickle\n",
    "\n",
    "file_list = glob.glob('{0}/*'.format(\"../data/processed/labeled/\"))\n",
    "\n",
    "for f in file_list:\n",
    "    with open(f, \"rb\") as f:\n",
    "        data_x = pickle.load(f)\n",
    "\n",
    "data_x = data_x.reshape(305, -1)\n",
    "\n",
    "k_mean = train_model(data_x)\n",
    "\n",
    "k_mean.inertia_"
   ],
   "metadata": {
    "collapsed": false,
    "pycharm": {
     "name": "#%%\n"
    }
   }
  },
  {
   "cell_type": "code",
   "execution_count": 59,
   "outputs": [],
   "source": [
    "k_mean_inertia = []\n",
    "for nc in range(3, 65):\n",
    "    k_mean = train_model(data_x, n_clusters=nc)\n",
    "\n",
    "    k_mean_inertia.append(k_mean.inertia_)"
   ],
   "metadata": {
    "collapsed": false,
    "pycharm": {
     "name": "#%%\n"
    }
   }
  },
  {
   "cell_type": "code",
   "execution_count": 60,
   "outputs": [
    {
     "data": {
      "text/plain": "<matplotlib.collections.PathCollection at 0x132df64f0>"
     },
     "execution_count": 60,
     "metadata": {},
     "output_type": "execute_result"
    },
    {
     "data": {
      "text/plain": "<Figure size 432x288 with 1 Axes>",
      "image/png": "[encoded data removed]"
     },
     "metadata": {
      "needs_background": "light"
     },
     "output_type": "display_data"
    }
   ],
   "source": [
    "import matplotlib.pyplot as plt\n",
    "\n",
    "plt.scatter(list(range(3, 65)), k_mean_inertia)"
   ],
   "metadata": {
    "collapsed": false,
    "pycharm": {
     "name": "#%%\n"
    }
   }
  },
  {
   "cell_type": "markdown",
   "source": [
    "note that this feature set is not enough to cluster labeled samples. Thus I am not working on the right features.\n",
    "(can't expect it to work on more noisy and unlabeled data)."
   ],
   "metadata": {
    "collapsed": false,
    "pycharm": {
     "name": "#%% md\n"
    }
   }
  },
  {
   "cell_type": "code",
   "execution_count": null,
   "outputs": [],
   "source": [],
   "metadata": {
    "collapsed": false,
    "pycharm": {
     "name": "#%%\n"
    }
   }
  }
 ],
 "metadata": {
  "kernelspec": {
   "display_name": "Python 3",
   "language": "python",
   "name": "python3"
  },
  "language_info": {
   "codemirror_mode": {
    "name": "ipython",
    "version": 2
   },
   "file_extension": ".py",
   "mimetype": "text/x-python",
   "name": "python",
   "nbconvert_exporter": "python",
   "pygments_lexer": "ipython2",
   "version": "2.7.6"
  }
 },
 "nbformat": 4,
 "nbformat_minor": 0
}