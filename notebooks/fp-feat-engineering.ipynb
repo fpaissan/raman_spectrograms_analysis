{
 "cells": [
  {
   "cell_type": "markdown",
   "metadata": {
    "collapsed": true,
    "pycharm": {
     "name": "#%% md\n"
    }
   },
   "source": [
    "# Comparison of different normalization methods/features and impact on model\n",
    "\n",
    "For this I will perform two different tests:\n",
    "    - which of the normalisation techniques maximises the KL-Divergence/pearson coeff between\n",
    "    different labeled samples? (possible similarity metric for k-medoid)\n",
    "    - visual inspection of normalised data;"
   ]
  },
  {
   "cell_type": "code",
   "execution_count": 21,
   "outputs": [],
   "source": [
    "from src.data.utils import normalize_col\n",
    "\n",
    "import pandas as pd\n",
    "import glob\n",
    "\n",
    "\n",
    "def make_labeled(input_filepath, norm_type=\"integral\"):\n",
    "    file_list = glob.glob(input_filepath + '/*')\n",
    "    for f in file_list:\n",
    "        df = pd.read_csv(f, delim_whitespace=True, names=['wl', 'ri'])\n",
    "        wl = df.wl\n",
    "        data = df.drop(columns=['wl'])\n",
    "\n",
    "        for col in data:\n",
    "            df[f'{norm_type}_{col}'] = normalize_col(wl, data[col], norm_type=norm_type)\n",
    "\n",
    "    return df"
   ],
   "metadata": {
    "collapsed": false,
    "pycharm": {
     "name": "#%%\n"
    }
   }
  },
  {
   "cell_type": "code",
   "execution_count": 22,
   "outputs": [
    {
     "data": {
      "text/plain": "(         wl        ri  integral_ri\n 0  100.0000   0.00000     0.000000\n 1  130.3772   0.00000     0.000000\n 2  130.8593  29.94379     0.000018\n 3  131.3414  40.09552     0.000025\n 4  131.8235  32.20599     0.000020,\n          wl        ri  zscore_ri\n 0  100.0000   0.00000  -0.450377\n 1  130.3772   0.00000  -0.450377\n 2  130.8593  29.94379  -0.440640\n 3  131.3414  40.09552  -0.437339\n 4  131.8235  32.20599  -0.439904)"
     },
     "execution_count": 22,
     "metadata": {},
     "output_type": "execute_result"
    }
   ],
   "source": [
    "data_integral = make_labeled(\"../data/raw/labeled\", \"integral\")\n",
    "data_zscore = make_labeled(\"../data/raw/labeled\", \"zscore\")\n",
    "\n",
    "data_integral.head(), data_zscore.head()"
   ],
   "metadata": {
    "collapsed": false,
    "pycharm": {
     "name": "#%%\n"
    }
   }
  },
  {
   "cell_type": "code",
   "execution_count": 23,
   "outputs": [],
   "source": [
    "from scipy.stats import entropy\n",
    "\n",
    "\n",
    "def stat_features(df, col_name):\n",
    "    # First-order stats\n",
    "    var = df[col_name].std()\n",
    "    mean = df[col_name].mean()\n",
    "    skew = df[col_name].skew()\n",
    "    kurt = df[col_name].kurtosis()\n",
    "\n",
    "    # Second-order stats\n",
    "    signal_entropy = entropy(df[col_name])\n",
    "\n",
    "    return {\n",
    "        \"var\": var,\n",
    "        \"mean\": mean,\n",
    "        \"skew\": skew,\n",
    "        \"kurt\": kurt,\n",
    "        \"entropy\": signal_entropy\n",
    "    }"
   ],
   "metadata": {
    "collapsed": false,
    "pycharm": {
     "name": "#%%\n"
    }
   }
  },
  {
   "cell_type": "code",
   "execution_count": 24,
   "outputs": [
    {
     "data": {
      "text/plain": "({'var': 0.001897976706764272,\n  'mean': 0.0008546294407266169,\n  'skew': 4.364274107468595,\n  'kurt': 24.073100892495738,\n  'entropy': 6.544725837429657},\n {'var': 1.000206079342734,\n  'mean': -4.684253717413104e-17,\n  'skew': 4.364274107468595,\n  'kurt': 24.07310089249574,\n  'entropy': -inf})"
     },
     "execution_count": 24,
     "metadata": {},
     "output_type": "execute_result"
    }
   ],
   "source": [
    "integral_feat = stat_features(data_integral, \"integral_ri\")\n",
    "zscore_feat = stat_features(data_zscore, \"zscore_ri\")\n",
    "\n",
    "integral_feat, zscore_feat"
   ],
   "metadata": {
    "collapsed": false,
    "pycharm": {
     "name": "#%%\n"
    }
   }
  },
  {
   "cell_type": "markdown",
   "source": [
    "note that entropy is not relevant for zscore since values might be -inf.\n",
    "Also var ~ 1 since that's the point of the zscore norm"
   ],
   "metadata": {
    "collapsed": false,
    "pycharm": {
     "name": "#%% md\n"
    }
   }
  },
  {
   "cell_type": "code",
   "execution_count": null,
   "outputs": [],
   "source": [],
   "metadata": {
    "collapsed": false,
    "pycharm": {
     "name": "#%%\n"
    }
   }
  }
 ],
 "metadata": {
  "kernelspec": {
   "display_name": "Python 3",
   "language": "python",
   "name": "python3"
  },
  "language_info": {
   "codemirror_mode": {
    "name": "ipython",
    "version": 2
   },
   "file_extension": ".py",
   "mimetype": "text/x-python",
   "name": "python",
   "nbconvert_exporter": "python",
   "pygments_lexer": "ipython2",
   "version": "2.7.6"
  }
 },
 "nbformat": 4,
 "nbformat_minor": 0
}